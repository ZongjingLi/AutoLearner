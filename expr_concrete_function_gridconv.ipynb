{
 "cells": [
  {
   "cell_type": "code",
   "execution_count": 38,
   "metadata": {},
   "outputs": [],
   "source": [
    "from autolearner.datasets import SpriteData, SpriteWithQuestions\n",
    "from autolearner.model import *\n",
    "from autolearner.config import *"
   ]
  },
  {
   "cell_type": "code",
   "execution_count": 39,
   "metadata": {},
   "outputs": [
    {
     "name": "stdout",
     "output_type": "stream",
     "text": [
      "torch.Size([3, 64, 64, 3])\n"
     ]
    }
   ],
   "source": [
    "import torch\n",
    "import torch.nn as nn\n",
    "from torch.utils.data import Dataset, DataLoader\n",
    "\n",
    "import matplotlib.pyplot as plt\n",
    "\n",
    "train_data = SpriteWithQuestions(\"train\", resolution = (64,64))\n",
    "train_loader = DataLoader(train_data, batch_size = 3, shuffle= True)\n",
    "\n",
    "for sample in train_loader:break;\n",
    "print(sample[\"image\"].shape)"
   ]
  },
  {
   "cell_type": "code",
   "execution_count": 40,
   "metadata": {},
   "outputs": [
    {
     "name": "stdout",
     "output_type": "stream",
     "text": [
      "{'program': ['exist(filter(scene(),Circle))', 'exist(filter(scene(),Circle))', 'exist(filter(scene(),Circle))'], 'answer': ['False', 'False', 'False']}\n",
      "{'program': ['exist(filter(scene(),Cube))', 'exist(filter(scene(),Cube))', 'exist(filter(scene(),Cube))'], 'answer': ['True', 'False', 'True']}\n",
      "{'program': ['exist(filter(scene(),Diamond))', 'exist(filter(scene(),Diamond))', 'exist(filter(scene(),Diamond))'], 'answer': ['True', 'True', 'False']}\n",
      "{'program': ['count(scene())', 'count(scene())', 'count(scene())'], 'answer': ['2.0', '2.0', '2.0']}\n"
     ]
    },
    {
     "data": {
      "text/plain": [
       "[None, None, None, None]"
      ]
     },
     "execution_count": 40,
     "metadata": {},
     "output_type": "execute_result"
    },
    {
     "data": {
      "image/png": "[encoded data removed]",
      "text/plain": [
       "<Figure size 432x288 with 1 Axes>"
      ]
     },
     "metadata": {
      "needs_background": "light"
     },
     "output_type": "display_data"
    }
   ],
   "source": [
    "plt.imshow(sample[\"image\"][0])\n",
    "\n",
    "[print(b) for b in sample[\"question\"]]"
   ]
  },
  {
   "cell_type": "markdown",
   "metadata": {},
   "source": [
    "constuct a grid convolution model to test the utility of the grouping function $f(x)=\\frac{\\sum_i x_i^2}{\\sum_i x_i}$. The model consists of 1) a grid convolution model that perform gridconv feature extraction 2) a instance tracking model that cluster pixel level information and form the whole. 3) a program executor that learns object centric representation and concept embeddings using query. Specificly, the grid-convolution model first takes the input image $x$ as input, then perform convolution and output the convolution feature denoted as $A_{l} = F(x_{l},\\theta)$. Then we use $n$ pre-defined vector keys with same dimension as $A_l$ and use the dot product to calculate the raw mask of pixels. Specifically, the mask use calculated in the form of $m^i_l = \\sigma( ( v^T_i \\cdot A_l- \\gamma) / \\tau)$. With these masks over pixels, we use the grouping concreteness function $G(x)$ to perform concreteness evaluation over masks as $s_i = G(m^i_l)$. Then the object centric feature for each slot is calculated as the weighted mean over features of pixels."
   ]
  },
  {
   "cell_type": "code",
   "execution_count": 41,
   "metadata": {},
   "outputs": [],
   "source": [
    "from karanir.dklearn import ConvolutionBackbone, ConvolutionUnits\n",
    "\n",
    "import math\n",
    "\n",
    "def expat(tens, dim, num):\n",
    "    rp_tens = tens.unsqueeze(dim)\n",
    "    rp_shape = [1 for o in rp_tens.shape]\n",
    "    rp_shape[dim] = num\n",
    "    output_tensor = rp_tens.repeat(rp_shape)\n",
    "    return output_tensor\n",
    "\n",
    "def group_concrete(x, batch = True):\n",
    "    assert x.min() >= 0.0,print(\"invalid x < 0.0\",x)\n",
    "    assert x.min() <= 1.0,print(\"invalid x > 1.0\",x)\n",
    "    if batch:\n",
    "        x_square = x * x\n",
    "        concrete_scores = x_square.sum(-1).sum(-1) / x.sum(-1).sum(-1)\n",
    "        return concrete_scores\n",
    "    return \n",
    "\n",
    "class NeuroGrouper(nn.Module):\n",
    "    def __init__(self, n_slots = 4, feature_dim = 32):\n",
    "        super().__init__()\n",
    "        # [1] the Grid Convolution Model\n",
    "        self.grid_conv = ConvolutionUnits(3 + 2, feature_dim, 128)\n",
    "\n",
    "        # [2] the Instance Sort Model\n",
    "        self.keys = nn.Parameter(torch.randn([n_slots, feature_dim]))\n",
    "\n",
    "        # [3] Neuro-Symolic Executor\n",
    "        self.executor = SceneProgramExecutor(config)\n",
    "    \n",
    "    def forward(self, im):\n",
    "        outputs = {}\n",
    "\n",
    "        B, W, H, C = im.shape\n",
    "        im = im.permute(0,3,1,2) #BxCxWxH\n",
    "\n",
    "        x,y = torch.meshgrid([torch.linspace(-1,1,W),torch.linspace(-1,1,H)])\n",
    "        #print(x.shape, y.shape)\n",
    "        im = torch.cat([im,expat(x.unsqueeze(0),0,B),expat(y.unsqueeze(0),0,B)], dim = 1)\n",
    " \n",
    "        grid_feature = self.grid_conv(im) #BxDxWxH\n",
    "        key_feature = expat(self.keys,0,B) # BxNxD\n",
    "\n",
    "        # [Calculate Mask Over]\n",
    "        raw_masks = torch.einsum(\"bnd,bdwh->bnwh\",key_feature, grid_feature)/ (math.sqrt(W*H))\n",
    "        masks = torch.softmax(raw_masks + 1e-6, dim = 1) # [BNWH]\n",
    "        B, N, W, H = masks.shape\n",
    "\n",
    "        scores = group_concrete(masks)\n",
    "        \n",
    "        #scores = masks.max(dim = -1).values.max(dim = -1).values\n",
    "\n",
    "        outputs[\"scores\"] = scores\n",
    "        outputs[\"masks\"] = masks\n",
    "\n",
    "        masked_features = expat(grid_feature.permute(0,2,3,1), 1, N) * masks.unsqueeze(-1)\n",
    "        outputs[\"features\"] = torch.mean(torch.mean(masked_features,dim = -2), dim = -2)\n",
    "\n",
    "        return outputs\n",
    "\n"
   ]
  },
  {
   "cell_type": "code",
   "execution_count": 42,
   "metadata": {},
   "outputs": [],
   "source": [
    "# [Train the Segmentation Modle]\n",
    "from tqdm import tqdm\n",
    "def train(model, dataset, epochs = 100, ckpt_itrs = 20):\n",
    "    device = \"cuda:0\" if torch.cuda.is_available() else \"cpu\"\n",
    "    train_loader = DataLoader(dataset, batch_size = 1, shuffle= True)\n",
    "    itr = 0\n",
    "    optimizer = torch.optim.Adam(model.parameters(), lr = 2e-4)\n",
    "    for epoch in tqdm(range(epochs)):\n",
    "        for sample in train_loader:\n",
    "            outputs = model(sample[\"image\"].to(device))\n",
    "\n",
    "            masks = outputs[\"masks\"]\n",
    "            B, N, W, H = masks.shape\n",
    "            scores = outputs[\"scores\"]\n",
    "            features = outputs[\"features\"]\n",
    "\n",
    "            loss = 0.0\n",
    "\n",
    "            qa_pairs = sample[\"question\"]\n",
    "\n",
    "            for b in range(B):\n",
    "                for i,qa_pair in enumerate(qa_pairs):  \n",
    "                    programs = qa_pair[\"program\"]\n",
    "                    answers = qa_pair[\"answer\"]              \n",
    "                    kwargs = {\n",
    "                    \"end\":[scores[b]],\n",
    "                    \"features\":[features[b]]}\n",
    "\n",
    "                    q = model.executor.parse(programs[b])\n",
    "                    o = model.executor(q,**kwargs)\n",
    "                    ans = answers[b]\n",
    "                    \n",
    "                    if ans in [\"True\",\"False\"]:\n",
    "                        if itr % ckpt_itrs == 0:print(q,o[\"end\"].sigmoid().detach().numpy(),ans)\n",
    "                        if ans == \"True\":\n",
    "                            loss -= torch.log(torch.sigmoid(o[\"end\"]))\n",
    "                        else: loss -=  torch.log(1 - torch.sigmoid(o[\"end\"]))\n",
    "                    else:\n",
    "                        if itr % ckpt_itrs == 0:print(q,o[\"end\"].detach().numpy()-1, float(answers[b]))\n",
    "                        loss += torch.nn.functional.mse_loss(torch.tensor(float(answers[b])), o[\"end\"]) * 1.0\n",
    "\n",
    "\n",
    "            optimizer.zero_grad()\n",
    "            loss.backward()\n",
    "            optimizer.step()\n",
    "\n",
    "            if itr % ckpt_itrs == 0:\n",
    "                masks = outputs[\"masks\"].detach()\n",
    "                scores = outputs[\"scores\"].detach() # [BxN]\n",
    "                B, N, W, H = masks.shape\n",
    "                plt.figure(\"masks\")\n",
    "                for b in range(B):\n",
    "                    for n in range(N):\n",
    "                        plt.subplot(B,N,N * b + n + 1);plt.cla()\n",
    "                        plt.imshow(masks[b,n,:,:].unsqueeze(-1) * sample[\"image\"][b,:,:,:].numpy(), cmap=\"bone\")\n",
    "                plt.figure(\"scores\")\n",
    "                for b in range(B):\n",
    "                    plt.subplot(B,1,b+1); plt.cla()\n",
    "                    plt.bar(list(range(len(scores[b]))),scores[b])\n",
    "                print(\"Loss:\",loss.detach().numpy())\n",
    "            plt.show()\n",
    "            itr += 1\n",
    "\n",
    "    "
   ]
  },
  {
   "cell_type": "code",
   "execution_count": 43,
   "metadata": {},
   "outputs": [
    {
     "name": "stderr",
     "output_type": "stream",
     "text": [
      "  0%|          | 0/10000 [00:00<?, ?it/s]"
     ]
    },
    {
     "name": "stdout",
     "output_type": "stream",
     "text": [
      "Exist(Filter(Scene(), Circle)) 0.09481725 False\n",
      "Exist(Filter(Scene(), Cube)) 0.043533523 True\n",
      "Exist(Filter(Scene(), Diamond)) 0.06943559 False\n",
      "Count(Scene()) 2.5033950805664062e-06 2.0\n",
      "Loss: 4.3058014\n"
     ]
    },
    {
     "data": {
      "image/png": "[encoded data removed]",
      "text/plain": [
       "<Figure size 432x288 with 4 Axes>"
      ]
     },
     "metadata": {
      "needs_background": "light"
     },
     "output_type": "display_data"
    },
    {
     "data": {
      "image/png": "[encoded data removed]",
      "text/plain": [
       "<Figure size 432x288 with 1 Axes>"
      ]
     },
     "metadata": {
      "needs_background": "light"
     },
     "output_type": "display_data"
    },
    {
     "name": "stdout",
     "output_type": "stream",
     "text": [
      "Exist(Filter(Scene(), Circle)) 0.5686007 True\n",
      "Exist(Filter(Scene(), Cube)) 0.72340256 True\n",
      "Exist(Filter(Scene(), Diamond)) 0.6833284 True\n",
      "Count(Scene()) 0.8977535963058472 2.0\n",
      "Loss: 1.2796003\n"
     ]
    },
    {
     "data": {
      "image/png": "[encoded data removed]",
      "text/plain": [
       "<Figure size 432x288 with 4 Axes>"
      ]
     },
     "metadata": {
      "needs_background": "light"
     },
     "output_type": "display_data"
    },
    {
     "data": {
      "image/png": "[encoded data removed]",
      "text/plain": [
       "<Figure size 432x288 with 1 Axes>"
      ]
     },
     "metadata": {
      "needs_background": "light"
     },
     "output_type": "display_data"
    },
    {
     "name": "stdout",
     "output_type": "stream",
     "text": [
      "Exist(Filter(Scene(), Circle)) 0.66351146 True\n",
      "Exist(Filter(Scene(), Cube)) 0.7260972 False\n",
      "Exist(Filter(Scene(), Diamond)) 0.66031367 True\n",
      "Count(Scene()) 1.1297929286956787 2.0\n",
      "Loss: 2.1370778\n"
     ]
    },
    {
     "data": {
      "image/png": "[encoded data removed]",
      "text/plain": [
       "<Figure size 432x288 with 4 Axes>"
      ]
     },
     "metadata": {
      "needs_background": "light"
     },
     "output_type": "display_data"
    },
    {
     "data": {
      "image/png": "[encoded data removed]",
      "text/plain": [
       "<Figure size 432x288 with 1 Axes>"
      ]
     },
     "metadata": {
      "needs_background": "light"
     },
     "output_type": "display_data"
    },
    {
     "name": "stderr",
     "output_type": "stream",
     "text": [
      "  0%|          | 1/10000 [00:55<154:20:36, 55.57s/it]"
     ]
    },
    {
     "name": "stdout",
     "output_type": "stream",
     "text": [
      "Exist(Filter(Scene(), Circle)) 0.53878003 True\n",
      "Exist(Filter(Scene(), Cube)) 0.6770025 True\n",
      "Exist(Filter(Scene(), Diamond)) 0.74647534 True\n",
      "Count(Scene()) 1.1236300468444824 2.0\n",
      "Loss: 1.3162054\n"
     ]
    },
    {
     "data": {
      "image/png": "[encoded data removed]",
      "text/plain": [
       "<Figure size 432x288 with 4 Axes>"
      ]
     },
     "metadata": {
      "needs_background": "light"
     },
     "output_type": "display_data"
    },
    {
     "data": {
      "image/png": "[encoded data removed]",
      "text/plain": [
       "<Figure size 432x288 with 1 Axes>"
      ]
     },
     "metadata": {
      "needs_background": "light"
     },
     "output_type": "display_data"
    },
    {
     "name": "stdout",
     "output_type": "stream",
     "text": [
      "Exist(Filter(Scene(), Circle)) 0.728713 True\n",
      "Exist(Filter(Scene(), Cube)) 0.64102715 True\n",
      "Exist(Filter(Scene(), Diamond)) 0.6480528 True\n",
      "Count(Scene()) 1.0160129070281982 2.0\n",
      "Loss: 1.1951983\n"
     ]
    },
    {
     "data": {
      "image/png": "[encoded data removed]",
      "text/plain": [
       "<Figure size 432x288 with 4 Axes>"
      ]
     },
     "metadata": {
      "needs_background": "light"
     },
     "output_type": "display_data"
    },
    {
     "data": {
      "image/png": "[encoded data removed]",
      "text/plain": [
       "<Figure size 432x288 with 1 Axes>"
      ]
     },
     "metadata": {
      "needs_background": "light"
     },
     "output_type": "display_data"
    },
    {
     "name": "stderr",
     "output_type": "stream",
     "text": [
      "  0%|          | 2/10000 [01:49<151:06:04, 54.41s/it]"
     ]
    },
    {
     "name": "stdout",
     "output_type": "stream",
     "text": [
      "Exist(Filter(Scene(), Circle)) 0.7984614 True\n",
      "Exist(Filter(Scene(), Cube)) 0.7528711 True\n",
      "Exist(Filter(Scene(), Diamond)) 0.61697906 False\n",
      "Count(Scene()) 1.0178709030151367 2.0\n",
      "Loss: 1.4689149\n"
     ]
    },
    {
     "data": {
      "image/png": "[encoded data removed]",
      "text/plain": [
       "<Figure size 432x288 with 4 Axes>"
      ]
     },
     "metadata": {
      "needs_background": "light"
     },
     "output_type": "display_data"
    },
    {
     "data": {
      "image/png": "[encoded data removed]",
      "text/plain": [
       "<Figure size 432x288 with 1 Axes>"
      ]
     },
     "metadata": {
      "needs_background": "light"
     },
     "output_type": "display_data"
    },
    {
     "name": "stdout",
     "output_type": "stream",
     "text": [
      "Exist(Filter(Scene(), Circle)) 0.69618297 True\n",
      "Exist(Filter(Scene(), Cube)) 0.6128159 True\n",
      "Exist(Filter(Scene(), Diamond)) 0.64908355 True\n",
      "Count(Scene()) 0.9997422695159912 2.0\n",
      "Loss: 1.2840275\n"
     ]
    },
    {
     "data": {
      "image/png": "[encoded data removed]",
      "text/plain": [
       "<Figure size 432x288 with 4 Axes>"
      ]
     },
     "metadata": {
      "needs_background": "light"
     },
     "output_type": "display_data"
    },
    {
     "data": {
      "image/png": "[encoded data removed]",
      "text/plain": [
       "<Figure size 432x288 with 1 Axes>"
      ]
     },
     "metadata": {
      "needs_background": "light"
     },
     "output_type": "display_data"
    },
    {
     "name": "stdout",
     "output_type": "stream",
     "text": [
      "Exist(Filter(Scene(), Circle)) 0.67371964 False\n",
      "Exist(Filter(Scene(), Cube)) 0.67991024 True\n",
      "Exist(Filter(Scene(), Diamond)) 0.5746944 True\n",
      "Count(Scene()) 0.999947190284729 2.0\n",
      "Loss: 2.0597098\n"
     ]
    },
    {
     "data": {
      "image/png": "[encoded data removed]",
      "text/plain": [
       "<Figure size 432x288 with 4 Axes>"
      ]
     },
     "metadata": {
      "needs_background": "light"
     },
     "output_type": "display_data"
    },
    {
     "data": {
      "image/png": "[encoded data removed]",
      "text/plain": [
       "<Figure size 432x288 with 1 Axes>"
      ]
     },
     "metadata": {
      "needs_background": "light"
     },
     "output_type": "display_data"
    },
    {
     "name": "stderr",
     "output_type": "stream",
     "text": [
      "  0%|          | 3/10000 [02:44<152:39:36, 54.97s/it]"
     ]
    },
    {
     "name": "stdout",
     "output_type": "stream",
     "text": [
      "Exist(Filter(Scene(), Circle)) 0.65086514 False\n",
      "Exist(Filter(Scene(), Cube)) 0.695005 True\n",
      "Exist(Filter(Scene(), Diamond)) 0.67879647 True\n",
      "Count(Scene()) 1.000657558441162 2.0\n",
      "Loss: 1.8035676\n"
     ]
    },
    {
     "data": {
      "image/png": "[encoded data removed]",
      "text/plain": [
       "<Figure size 432x288 with 4 Axes>"
      ]
     },
     "metadata": {
      "needs_background": "light"
     },
     "output_type": "display_data"
    },
    {
     "data": {
      "image/png": "[encoded data removed]",
      "text/plain": [
       "<Figure size 432x288 with 1 Axes>"
      ]
     },
     "metadata": {
      "needs_background": "light"
     },
     "output_type": "display_data"
    },
    {
     "name": "stdout",
     "output_type": "stream",
     "text": [
      "Exist(Filter(Scene(), Circle)) 0.6933255 True\n",
      "Exist(Filter(Scene(), Cube)) 0.5571792 False\n",
      "Exist(Filter(Scene(), Diamond)) 0.6632245 False\n",
      "Count(Scene()) 1.0009329319000244 2.0\n",
      "Loss: 2.2691855\n"
     ]
    },
    {
     "data": {
      "image/png": "[encoded data removed]",
      "text/plain": [
       "<Figure size 432x288 with 4 Axes>"
      ]
     },
     "metadata": {
      "needs_background": "light"
     },
     "output_type": "display_data"
    },
    {
     "data": {
      "image/png": "[encoded data removed]",
      "text/plain": [
       "<Figure size 432x288 with 1 Axes>"
      ]
     },
     "metadata": {
      "needs_background": "light"
     },
     "output_type": "display_data"
    },
    {
     "name": "stderr",
     "output_type": "stream",
     "text": [
      "  0%|          | 4/10000 [03:37<149:43:49, 53.92s/it]"
     ]
    },
    {
     "name": "stdout",
     "output_type": "stream",
     "text": [
      "Exist(Filter(Scene(), Circle)) 0.5930108 True\n",
      "Exist(Filter(Scene(), Cube)) 0.7200062 True\n",
      "Exist(Filter(Scene(), Diamond)) 0.73069984 True\n",
      "Count(Scene()) 0.9983506202697754 2.0\n",
      "Loss: 1.1647934\n"
     ]
    },
    {
     "data": {
      "image/png": "[encoded data removed]",
      "text/plain": [
       "<Figure size 432x288 with 4 Axes>"
      ]
     },
     "metadata": {
      "needs_background": "light"
     },
     "output_type": "display_data"
    },
    {
     "data": {
      "image/png": "[encoded data removed]",
      "text/plain": [
       "<Figure size 432x288 with 1 Axes>"
      ]
     },
     "metadata": {
      "needs_background": "light"
     },
     "output_type": "display_data"
    },
    {
     "name": "stdout",
     "output_type": "stream",
     "text": [
      "Exist(Filter(Scene(), Circle)) 0.8441076 False\n",
      "Exist(Filter(Scene(), Cube)) 0.64817256 True\n",
      "Exist(Filter(Scene(), Diamond)) 0.6837164 False\n",
      "Count(Scene()) 0.9961135387420654 2.0\n",
      "Loss: 3.4433186\n"
     ]
    },
    {
     "data": {
      "image/png": "[encoded data removed]",
      "text/plain": [
       "<Figure size 432x288 with 4 Axes>"
      ]
     },
     "metadata": {
      "needs_background": "light"
     },
     "output_type": "display_data"
    },
    {
     "data": {
      "image/png": "[encoded data removed]",
      "text/plain": [
       "<Figure size 432x288 with 1 Axes>"
      ]
     },
     "metadata": {
      "needs_background": "light"
     },
     "output_type": "display_data"
    },
    {
     "name": "stderr",
     "output_type": "stream",
     "text": [
      "  0%|          | 4/10000 [04:07<171:50:07, 61.89s/it]"
     ]
    },
    {
     "name": "stdout",
     "output_type": "stream",
     "text": [
      "invalid x < 0.0 tensor([[[[nan, nan, nan,  ..., nan, nan, nan],\n",
      "          [nan, nan, nan,  ..., nan, nan, nan],\n",
      "          [nan, nan, nan,  ..., nan, nan, nan],\n",
      "          ...,\n",
      "          [nan, nan, nan,  ..., nan, nan, nan],\n",
      "          [nan, nan, nan,  ..., nan, nan, nan],\n",
      "          [nan, nan, nan,  ..., nan, nan, nan]],\n",
      "\n",
      "         [[nan, nan, nan,  ..., nan, nan, nan],\n",
      "          [nan, nan, nan,  ..., nan, nan, nan],\n",
      "          [nan, nan, nan,  ..., nan, nan, nan],\n",
      "          ...,\n",
      "          [nan, nan, nan,  ..., nan, nan, nan],\n",
      "          [nan, nan, nan,  ..., nan, nan, nan],\n",
      "          [nan, nan, nan,  ..., nan, nan, nan]],\n",
      "\n",
      "         [[nan, nan, nan,  ..., nan, nan, nan],\n",
      "          [nan, nan, nan,  ..., nan, nan, nan],\n",
      "          [nan, nan, nan,  ..., nan, nan, nan],\n",
      "          ...,\n",
      "          [nan, nan, nan,  ..., nan, nan, nan],\n",
      "          [nan, nan, nan,  ..., nan, nan, nan],\n",
      "          [nan, nan, nan,  ..., nan, nan, nan]],\n",
      "\n",
      "         [[nan, nan, nan,  ..., nan, nan, nan],\n",
      "          [nan, nan, nan,  ..., nan, nan, nan],\n",
      "          [nan, nan, nan,  ..., nan, nan, nan],\n",
      "          ...,\n",
      "          [nan, nan, nan,  ..., nan, nan, nan],\n",
      "          [nan, nan, nan,  ..., nan, nan, nan],\n",
      "          [nan, nan, nan,  ..., nan, nan, nan]]]], grad_fn=<SoftmaxBackward0>)\n"
     ]
    },
    {
     "name": "stderr",
     "output_type": "stream",
     "text": [
      "\n"
     ]
    },
    {
     "ename": "AssertionError",
     "evalue": "None",
     "output_type": "error",
     "traceback": [
      "\u001b[0;31m---------------------------------------------------------------------------\u001b[0m",
      "\u001b[0;31mAssertionError\u001b[0m                            Traceback (most recent call last)",
      "\u001b[1;32m/Users/melkor/Documents/GitHub/AutoLearner/expr_concrete_function_gridconv.ipynb Cell 7'\u001b[0m in \u001b[0;36m<cell line: 6>\u001b[0;34m()\u001b[0m\n\u001b[1;32m      <a href='vscode-notebook-cell:/Users/melkor/Documents/GitHub/AutoLearner/expr_concrete_function_gridconv.ipynb#ch0000007?line=3'>4</a>\u001b[0m config\u001b[39m.\u001b[39mtemperature \u001b[39m=\u001b[39m \u001b[39m0.2\u001b[39m\n\u001b[1;32m      <a href='vscode-notebook-cell:/Users/melkor/Documents/GitHub/AutoLearner/expr_concrete_function_gridconv.ipynb#ch0000007?line=4'>5</a>\u001b[0m grouper \u001b[39m=\u001b[39m NeuroGrouper(\u001b[39m4\u001b[39m, config\u001b[39m.\u001b[39mconcept_dim )\n\u001b[0;32m----> <a href='vscode-notebook-cell:/Users/melkor/Documents/GitHub/AutoLearner/expr_concrete_function_gridconv.ipynb#ch0000007?line=5'>6</a>\u001b[0m train(grouper, train_data, \u001b[39m10000\u001b[39;49m, \u001b[39m200\u001b[39;49m)\n",
      "\u001b[1;32m/Users/melkor/Documents/GitHub/AutoLearner/expr_concrete_function_gridconv.ipynb Cell 6'\u001b[0m in \u001b[0;36mtrain\u001b[0;34m(model, dataset, epochs, ckpt_itrs)\u001b[0m\n\u001b[1;32m      <a href='vscode-notebook-cell:/Users/melkor/Documents/GitHub/AutoLearner/expr_concrete_function_gridconv.ipynb#ch0000006?line=7'>8</a>\u001b[0m \u001b[39mfor\u001b[39;00m epoch \u001b[39min\u001b[39;00m tqdm(\u001b[39mrange\u001b[39m(epochs)):\n\u001b[1;32m      <a href='vscode-notebook-cell:/Users/melkor/Documents/GitHub/AutoLearner/expr_concrete_function_gridconv.ipynb#ch0000006?line=8'>9</a>\u001b[0m     \u001b[39mfor\u001b[39;00m sample \u001b[39min\u001b[39;00m train_loader:\n\u001b[0;32m---> <a href='vscode-notebook-cell:/Users/melkor/Documents/GitHub/AutoLearner/expr_concrete_function_gridconv.ipynb#ch0000006?line=9'>10</a>\u001b[0m         outputs \u001b[39m=\u001b[39m model(sample[\u001b[39m\"\u001b[39;49m\u001b[39mimage\u001b[39;49m\u001b[39m\"\u001b[39;49m]\u001b[39m.\u001b[39;49mto(device))\n\u001b[1;32m     <a href='vscode-notebook-cell:/Users/melkor/Documents/GitHub/AutoLearner/expr_concrete_function_gridconv.ipynb#ch0000006?line=11'>12</a>\u001b[0m         masks \u001b[39m=\u001b[39m outputs[\u001b[39m\"\u001b[39m\u001b[39mmasks\u001b[39m\u001b[39m\"\u001b[39m]\n\u001b[1;32m     <a href='vscode-notebook-cell:/Users/melkor/Documents/GitHub/AutoLearner/expr_concrete_function_gridconv.ipynb#ch0000006?line=12'>13</a>\u001b[0m         B, N, W, H \u001b[39m=\u001b[39m masks\u001b[39m.\u001b[39mshape\n",
      "File \u001b[0;32m~/miniforge3/envs/Melkor/lib/python3.9/site-packages/torch/nn/modules/module.py:1194\u001b[0m, in \u001b[0;36mModule._call_impl\u001b[0;34m(self, *input, **kwargs)\u001b[0m\n\u001b[1;32m   <a href='file:///Users/melkor/miniforge3/envs/Melkor/lib/python3.9/site-packages/torch/nn/modules/module.py?line=1189'>1190</a>\u001b[0m \u001b[39m# If we don't have any hooks, we want to skip the rest of the logic in\u001b[39;00m\n\u001b[1;32m   <a href='file:///Users/melkor/miniforge3/envs/Melkor/lib/python3.9/site-packages/torch/nn/modules/module.py?line=1190'>1191</a>\u001b[0m \u001b[39m# this function, and just call forward.\u001b[39;00m\n\u001b[1;32m   <a href='file:///Users/melkor/miniforge3/envs/Melkor/lib/python3.9/site-packages/torch/nn/modules/module.py?line=1191'>1192</a>\u001b[0m \u001b[39mif\u001b[39;00m \u001b[39mnot\u001b[39;00m (\u001b[39mself\u001b[39m\u001b[39m.\u001b[39m_backward_hooks \u001b[39mor\u001b[39;00m \u001b[39mself\u001b[39m\u001b[39m.\u001b[39m_forward_hooks \u001b[39mor\u001b[39;00m \u001b[39mself\u001b[39m\u001b[39m.\u001b[39m_forward_pre_hooks \u001b[39mor\u001b[39;00m _global_backward_hooks\n\u001b[1;32m   <a href='file:///Users/melkor/miniforge3/envs/Melkor/lib/python3.9/site-packages/torch/nn/modules/module.py?line=1192'>1193</a>\u001b[0m         \u001b[39mor\u001b[39;00m _global_forward_hooks \u001b[39mor\u001b[39;00m _global_forward_pre_hooks):\n\u001b[0;32m-> <a href='file:///Users/melkor/miniforge3/envs/Melkor/lib/python3.9/site-packages/torch/nn/modules/module.py?line=1193'>1194</a>\u001b[0m     \u001b[39mreturn\u001b[39;00m forward_call(\u001b[39m*\u001b[39;49m\u001b[39minput\u001b[39;49m, \u001b[39m*\u001b[39;49m\u001b[39m*\u001b[39;49mkwargs)\n\u001b[1;32m   <a href='file:///Users/melkor/miniforge3/envs/Melkor/lib/python3.9/site-packages/torch/nn/modules/module.py?line=1194'>1195</a>\u001b[0m \u001b[39m# Do not call functions when jit is used\u001b[39;00m\n\u001b[1;32m   <a href='file:///Users/melkor/miniforge3/envs/Melkor/lib/python3.9/site-packages/torch/nn/modules/module.py?line=1195'>1196</a>\u001b[0m full_backward_hooks, non_full_backward_hooks \u001b[39m=\u001b[39m [], []\n",
      "\u001b[1;32m/Users/melkor/Documents/GitHub/AutoLearner/expr_concrete_function_gridconv.ipynb Cell 5'\u001b[0m in \u001b[0;36mNeuroGrouper.forward\u001b[0;34m(self, im)\u001b[0m\n\u001b[1;32m     <a href='vscode-notebook-cell:/Users/melkor/Documents/GitHub/AutoLearner/expr_concrete_function_gridconv.ipynb#ch0000003?line=47'>48</a>\u001b[0m masks \u001b[39m=\u001b[39m torch\u001b[39m.\u001b[39msoftmax(raw_masks \u001b[39m+\u001b[39m \u001b[39m1e-6\u001b[39m, dim \u001b[39m=\u001b[39m \u001b[39m1\u001b[39m) \u001b[39m# [BNWH]\u001b[39;00m\n\u001b[1;32m     <a href='vscode-notebook-cell:/Users/melkor/Documents/GitHub/AutoLearner/expr_concrete_function_gridconv.ipynb#ch0000003?line=48'>49</a>\u001b[0m B, N, W, H \u001b[39m=\u001b[39m masks\u001b[39m.\u001b[39mshape\n\u001b[0;32m---> <a href='vscode-notebook-cell:/Users/melkor/Documents/GitHub/AutoLearner/expr_concrete_function_gridconv.ipynb#ch0000003?line=50'>51</a>\u001b[0m scores \u001b[39m=\u001b[39m group_concrete(masks)\n\u001b[1;32m     <a href='vscode-notebook-cell:/Users/melkor/Documents/GitHub/AutoLearner/expr_concrete_function_gridconv.ipynb#ch0000003?line=52'>53</a>\u001b[0m \u001b[39m#scores = masks.max(dim = -1).values.max(dim = -1).values\u001b[39;00m\n\u001b[1;32m     <a href='vscode-notebook-cell:/Users/melkor/Documents/GitHub/AutoLearner/expr_concrete_function_gridconv.ipynb#ch0000003?line=54'>55</a>\u001b[0m outputs[\u001b[39m\"\u001b[39m\u001b[39mscores\u001b[39m\u001b[39m\"\u001b[39m] \u001b[39m=\u001b[39m scores\n",
      "\u001b[1;32m/Users/melkor/Documents/GitHub/AutoLearner/expr_concrete_function_gridconv.ipynb Cell 5'\u001b[0m in \u001b[0;36mgroup_concrete\u001b[0;34m(x, batch)\u001b[0m\n\u001b[1;32m     <a href='vscode-notebook-cell:/Users/melkor/Documents/GitHub/AutoLearner/expr_concrete_function_gridconv.ipynb#ch0000003?line=11'>12</a>\u001b[0m \u001b[39mdef\u001b[39;00m \u001b[39mgroup_concrete\u001b[39m(x, batch \u001b[39m=\u001b[39m \u001b[39mTrue\u001b[39;00m):\n\u001b[0;32m---> <a href='vscode-notebook-cell:/Users/melkor/Documents/GitHub/AutoLearner/expr_concrete_function_gridconv.ipynb#ch0000003?line=12'>13</a>\u001b[0m     \u001b[39massert\u001b[39;00m x\u001b[39m.\u001b[39mmin() \u001b[39m>\u001b[39m\u001b[39m=\u001b[39m \u001b[39m0.0\u001b[39m,\u001b[39mprint\u001b[39m(\u001b[39m\"\u001b[39m\u001b[39minvalid x < 0.0\u001b[39m\u001b[39m\"\u001b[39m,x)\n\u001b[1;32m     <a href='vscode-notebook-cell:/Users/melkor/Documents/GitHub/AutoLearner/expr_concrete_function_gridconv.ipynb#ch0000003?line=13'>14</a>\u001b[0m     \u001b[39massert\u001b[39;00m x\u001b[39m.\u001b[39mmin() \u001b[39m<\u001b[39m\u001b[39m=\u001b[39m \u001b[39m1.0\u001b[39m,\u001b[39mprint\u001b[39m(\u001b[39m\"\u001b[39m\u001b[39minvalid x > 1.0\u001b[39m\u001b[39m\"\u001b[39m,x)\n\u001b[1;32m     <a href='vscode-notebook-cell:/Users/melkor/Documents/GitHub/AutoLearner/expr_concrete_function_gridconv.ipynb#ch0000003?line=14'>15</a>\u001b[0m     \u001b[39mif\u001b[39;00m batch:\n",
      "\u001b[0;31mAssertionError\u001b[0m: None"
     ]
    }
   ],
   "source": [
    "config.domain = \"sprites\"\n",
    "config.concept_dim = 32\n",
    "config.concept_type = \"cone\"\n",
    "config.temperature = 0.2\n",
    "grouper = NeuroGrouper(4, config.concept_dim )\n",
    "train(grouper, train_data, 10000, 200)"
   ]
  }
 ],
 "metadata": {
  "interpreter": {
   "hash": "a47e46093c771f9510c4aabf3710bfb1355e5f870a13f8c22092f45d4d23626d"
  },
  "kernelspec": {
   "display_name": "Python 3.9.13 ('Melkor')",
   "language": "python",
   "name": "python3"
  },
  "language_info": {
   "codemirror_mode": {
    "name": "ipython",
    "version": 3
   },
   "file_extension": ".py",
   "mimetype": "text/x-python",
   "name": "python",
   "nbconvert_exporter": "python",
   "pygments_lexer": "ipython3",
   "version": "3.9.13"
  },
  "orig_nbformat": 4
 },
 "nbformat": 4,
 "nbformat_minor": 2
}
