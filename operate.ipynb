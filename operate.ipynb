{
 "cells": [
  {
   "cell_type": "code",
   "execution_count": 12,
   "metadata": {},
   "outputs": [
    {
     "name": "stdout",
     "output_type": "stream",
     "text": [
      "No checkpoint to load and creating a new model instance\n",
      "using perception: valkyr knowledge:cone dataset:Sprites\n",
      "start the image domain training session.\n",
      "\n",
      "start the experiment: VKY query:[True]\n",
      "\n",
      "Train the Scene Learner Model-[valkyr] on [Sprites]\n",
      "experiment config: \n",
      "epoch: 1200 \n",
      "batch: 2 samples \n",
      "lr: 0.0002\n",
      "\n",
      "Convs: 0:00:00.482656\n",
      "GraphConvs: 0:00:01.385133\n",
      "Render: 0:00:00.785542\n",
      "GraphConvs: 0:00:00.001616\n",
      "Render: 0:00:00.055213\n",
      "Recons: 0:00:00.001062\n",
      "Recons: 0:00:00.000706\n",
      "yes\n",
      "yes\n",
      "yes\n",
      "three\n",
      "no\n",
      "yes\n",
      "no\n",
      "one\n",
      "Epoch: 1, Itrs: 1 Loss: 537394176.0 Percept:2.101105213165283 Language:537394176.0, Time: 0:00:07.704215Convs: 0:00:00.414185\n",
      "GraphConvs: 0:00:01.242162\n",
      "Render: 0:00:00.789081\n",
      "GraphConvs: 0:00:00.001763\n",
      "Render: 0:00:00.031469\n",
      "Recons: 0:00:00.000874\n",
      "Recons: 0:00:00.000719\n",
      "no\n",
      "no\n",
      "yes\n",
      "one\n",
      "no\n",
      "no\n",
      "yes\n",
      "one\n",
      "Epoch: 1, Itrs: 2 Loss: 537459776.0 Percept:2.1315927505493164 Language:537459776.0, Time: 0:00:10.454453Convs: 0:00:00.768278\n",
      "GraphConvs: 0:00:01.322963\n",
      "^C\n",
      "Traceback (most recent call last):\n",
      "  File \"/Users/melkor/Documents/GitHub/SceneGraphLearner/SceneGraphLearner/main.py\", line 138, in <module>\n",
      "    train_scenelearner(model.scenelearner, config, args)\n",
      "  File \"/Users/melkor/Documents/GitHub/SceneGraphLearner/SceneGraphLearner/train.py\", line 153, in train_scenelearner\n",
      "    perception_outputs = train_model.scene_perception(input_images) # \n",
      "  File \"/Users/melkor/miniforge3/envs/Melkor/lib/python3.9/site-packages/torch/nn/modules/module.py\", line 1194, in _call_impl\n",
      "    return forward_call(*input, **kwargs)\n",
      "  File \"/Users/melkor/Documents/GitHub/SceneGraphLearner/SceneGraphLearner/models/percept/valkyr_net/valkyrnet.py\", line 481, in forward\n",
      "    entropy_regular += assignment_entropy(assignment_matrix)\n",
      "  File \"/Users/melkor/Documents/GitHub/SceneGraphLearner/SceneGraphLearner/models/percept/valkyr_net/valkyrnet.py\", line 578, in assignment_entropy\n",
      "    input_tensor = s_matrix[b][i:i+1,:].clamp(EPS, 1-EPS)\n",
      "KeyboardInterrupt\n"
     ]
    }
   ],
   "source": [
    "!/Users/melkor/miniforge3/envs/Melkor/bin/python SceneGraphLearner/main.py --name=\"VKY\" \\\n",
    " --dataset=\"Sprites\" --domain=\"sprites\" --perception=\"valkyr\" --training_mode=\"query\" --batch_size=2 --lr=0.0002 \n",
    " "
   ]
  },
  {
   "cell_type": "code",
   "execution_count": null,
   "metadata": {},
   "outputs": [],
   "source": [
    "--checkpoint_dir=\"SceneGraphLearner/checkpoints/sprites_temp.ckpt\""
   ]
  }
 ],
 "metadata": {
  "interpreter": {
   "hash": "a47e46093c771f9510c4aabf3710bfb1355e5f870a13f8c22092f45d4d23626d"
  },
  "kernelspec": {
   "display_name": "Python 3.9.13 ('Melkor')",
   "language": "python",
   "name": "python3"
  },
  "language_info": {
   "codemirror_mode": {
    "name": "ipython",
    "version": 3
   },
   "file_extension": ".py",
   "mimetype": "text/x-python",
   "name": "python",
   "nbconvert_exporter": "python",
   "pygments_lexer": "ipython3",
   "version": "3.9.13"
  },
  "orig_nbformat": 4
 },
 "nbformat": 4,
 "nbformat_minor": 2
}
