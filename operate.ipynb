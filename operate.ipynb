{
 "cells": [
  {
   "cell_type": "code",
   "execution_count": 4,
   "metadata": {},
   "outputs": [
    {
     "name": "stdout",
     "output_type": "stream",
     "text": [
      "[nltk_data] Downloading package averaged_perceptron_tagger to\n",
      "[nltk_data]     /Users/melkor/nltk_data...\n",
      "[nltk_data]   Package averaged_perceptron_tagger is already up-to-\n",
      "[nltk_data]       date!\n",
      "[Taichi] version 1.7.0, llvm 15.0.7, commit 7b58b0ff, osx, python 3.9.13\n",
      "Traceback (most recent call last):\n",
      "  File \"/Users/melkor/Documents/GitHub/AutoLearner/AutoLearner/main.py\", line 3, in <module>\n",
      "    from train import *\n",
      "  File \"/Users/melkor/Documents/GitHub/AutoLearner/autolearner/train.py\", line 2, in <module>\n",
      "    from datasets import *\n",
      "  File \"/Users/melkor/Documents/GitHub/AutoLearner/autolearner/datasets/__init__.py\", line 11, in <module>\n",
      "    from .p3d_dataset import *\n",
      "  File \"/Users/melkor/Documents/GitHub/AutoLearner/autolearner/datasets/p3d_dataset/__init__.py\", line 1, in <module>\n",
      "    from .objects3d     import *\n",
      "  File \"/Users/melkor/Documents/GitHub/AutoLearner/autolearner/datasets/p3d_dataset/objects3d/__init__.py\", line 1, in <module>\n",
      "    from .object3d_dataset import *\n",
      "  File \"/Users/melkor/Documents/GitHub/AutoLearner/autolearner/datasets/p3d_dataset/objects3d/object3d_dataset.py\", line 4, in <module>\n",
      "    from utils import geometry\n",
      "ModuleNotFoundError: No module named 'utils'\n"
     ]
    }
   ],
   "source": [
    "!/Users/melkor/miniforge3/envs/Melkor/bin/python AutoLearner/main.py --name=\"VKY\" \\\n",
    " --dataset=\"Sprites\" --domain=\"sprites\" --perception=\"valkyr\" --training_mode=\"query\" --batch_size=2 --lr=0.0002 \n",
    " "
   ]
  },
  {
   "cell_type": "code",
   "execution_count": null,
   "metadata": {},
   "outputs": [],
   "source": [
    "--checkpoint_dir=\"SceneGraphLearner/checkpoints/sprites_temp.ckpt\""
   ]
  }
 ],
 "metadata": {
  "interpreter": {
   "hash": "a47e46093c771f9510c4aabf3710bfb1355e5f870a13f8c22092f45d4d23626d"
  },
  "kernelspec": {
   "display_name": "Python 3.9.13 ('Melkor')",
   "language": "python",
   "name": "python3"
  },
  "language_info": {
   "codemirror_mode": {
    "name": "ipython",
    "version": 3
   },
   "file_extension": ".py",
   "mimetype": "text/x-python",
   "name": "python",
   "nbconvert_exporter": "python",
   "pygments_lexer": "ipython3",
   "version": "3.9.13"
  },
  "orig_nbformat": 4
 },
 "nbformat": 4,
 "nbformat_minor": 2
}
