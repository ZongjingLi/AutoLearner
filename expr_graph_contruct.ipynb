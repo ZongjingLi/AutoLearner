{
 "cells": [
  {
   "cell_type": "code",
   "execution_count": 185,
   "metadata": {},
   "outputs": [],
   "source": [
    "import torch\n",
    "import torch.nn as nn\n",
    "\n",
    "from autolearner.model import *\n",
    "from autolearner.config import *"
   ]
  },
  {
   "cell_type": "code",
   "execution_count": 205,
   "metadata": {},
   "outputs": [
    {
     "data": {
      "image/png": "[encoded data removed]",
      "text/plain": [
       "<Figure size 432x432 with 1 Axes>"
      ]
     },
     "metadata": {
      "needs_background": "light"
     },
     "output_type": "display_data"
    }
   ],
   "source": [
    "# [Generate Base Data]\n",
    "import random\n",
    "from torch.utils.data import DataLoader, Dataset\n",
    "\n",
    "tri_temp = torch.tensor([[0.0,0.0], [0.1,.1], [.2,0.0]])\n",
    "tri_hori = torch.tensor([[0.0,0.0], [0.1,.1], [.0,.2]])\n",
    "\n",
    "def make_data(num_samples = 3):\n",
    "    all_data = []\n",
    "    for i in range(num_samples):\n",
    "        scene = []\n",
    "        n_rect = random.randint(1,1)\n",
    "        n_tri = random.randint(0,1)\n",
    "        n_house = random.randint(0,1)\n",
    "        n_ship = random.randint(0,1)\n",
    "        scale = 0.8\n",
    "\n",
    "        for n in range(n_rect):\n",
    "            pos = [ random.random() * scale, random.random() *scale]\n",
    "            scene.append(\n",
    "                [\"rect\",0.15 + pos[0],0.15 + pos[1],0.15,0.15]\n",
    "            )\n",
    "\n",
    "        for n in range(n_tri):\n",
    "            pos = [ random.random() * scale, random.random() *scale]\n",
    "            scene.append(\n",
    "                [\"tri\", tri_hori * 1.0 + torch.tensor(pos)]\n",
    "            )\n",
    "\n",
    "        for n in range(n_house):\n",
    "            pos = [ random.random() * scale, random.random() *scale]\n",
    "            scene.append(\n",
    "                [\"rect\",0.15 + pos[0],0.15 + pos[1],0.15,0.15]\n",
    "            )\n",
    "            scene.append(\n",
    "                [\"tri\", tri_temp * 1.2 + torch.tensor([0.11,0.3]) + torch.tensor(pos)]\n",
    "            )\n",
    "        \n",
    "        for n in range(n_ship):\n",
    "            pos = [ random.random() * scale, random.random() *scale]\n",
    "            scene.append(\n",
    "                [\"rect\",0.15 + pos[0],0.13 + pos[1],0.17,0.08],\n",
    "            )\n",
    "            scene.append(\n",
    "                [\"tri\", tri_hori * 1.0 + torch.tensor([0.21,0.21]) + torch.tensor(pos)]\n",
    "            )\n",
    "        scene_data = {}\n",
    "        scene_data[\"scene\"] = scene\n",
    "        all_data.append(scene_data)\n",
    "    return all_data\n",
    "\n",
    "def render(data, ax):\n",
    "    for obj in data:\n",
    "        if obj[0] == \"rect\":\n",
    "            rect = plt.Rectangle(obj[1:3],obj[3],obj[4], color=\"red\")\n",
    "            ax.add_patch(rect)\n",
    "        if obj[0] == \"tri\":\n",
    "            poly = plt.Polygon(obj[1],color=\"blue\")\n",
    "            ax.add_patch(poly)\n",
    "\n",
    "pos = (0.2,0.2)\n",
    "data = [\n",
    "    [\"rect\",0.15 + pos[0],0.13 + pos[1],0.17,0.08],\n",
    "    [\"tri\", tri_hori * 1.0 + torch.tensor([0.21,0.21]) + torch.tensor(pos)]\n",
    "    ]\n",
    "\n",
    "fig, ax = plt.subplots(figsize = (6,6))\n",
    "ax.cla()\n",
    "\n",
    "data = make_data(1)[0][\"scene\"]\n",
    "\n",
    "render(data, ax)\n",
    "plt.show()"
   ]
  },
  {
   "cell_type": "code",
   "execution_count": 4,
   "metadata": {},
   "outputs": [],
   "source": [
    "def expat(tens, dim, num):\n",
    "    rp_tens = tens.unsqueeze(dim)\n",
    "    rp_shape = [1 for o in rp_tens.shape]\n",
    "    rp_shape[dim] = num\n",
    "    output_tensor = rp_tens.repeat(rp_shape)\n",
    "    return output_tensor\n",
    "\n",
    "def group_concrete(x, batch = True):\n",
    "    assert x.min() >= 0.0,print(\"invalid x < 0.0\",x)\n",
    "    assert x.min() <= 1.0,print(\"invalid x > 1.0\",x)\n",
    "    if batch:\n",
    "        x_square = x * x\n",
    "        concrete_scores = x_square.sum(-1).sum(-1) / x.sum(-1).sum(-1)\n",
    "        return concrete_scores\n",
    "    return "
   ]
  },
  {
   "cell_type": "markdown",
   "metadata": {},
   "source": [
    "This section is a Graph Abstraction Module that performs graph level segmentation with regularization of natural language."
   ]
  },
  {
   "cell_type": "code",
   "execution_count": 183,
   "metadata": {},
   "outputs": [],
   "source": [
    "# [Graph Learner Module]\n",
    "\n",
    "class GraphAttention(nn.Module):\n",
    "    def __init__(self, input_dim, output_dim, latent_dim = 128):\n",
    "        super().__init__()\n",
    "        self.W = nn.Linear(input_dim, latent_dim, bias = False)\n",
    "        self.a = nn.Linear(latent_dim * 2, 1, bias = False)\n",
    "    \n",
    "    def forward(self, x, edges):\n",
    "        wx = self.W(x)\n",
    "        attn = self.a(wx)\n",
    "\n",
    "        return x\n",
    "\n",
    "class GraphLearner(nn.Module):\n",
    "    def __init__(self, n_slots = 3, feature_dim = 32):\n",
    "        super().__init__()\n",
    "        self.rect_embedding = nn.Linear(1,1)\n",
    "        self.tri_embedding = nn.Linear(1,1)\n",
    "\n",
    "        # [2] Object Centric Keys\n",
    "        self.keys = nn.Parameter(torch.randn([n_slots, feature_dim]))\n",
    "\n",
    "        # [3] Neuro-Symolic Executor\n",
    "        self.executor = SceneProgramExecutor(config)    \n",
    "\n",
    "    def forward(self, input_graph):\n",
    "        outputs = {}\n",
    "        return outputs"
   ]
  },
  {
   "cell_type": "code",
   "execution_count": null,
   "metadata": {},
   "outputs": [],
   "source": [
    "# [Train Representation]\n",
    "from tqdm import tqdm\n",
    "\n",
    "def train(model, dataset, epochs = 100, ckpt_itrs = 20):\n",
    "    device = \"cuda:0\" if torch.cuda.is_available() else \"cpu\"\n",
    "    train_loader = DataLoader(dataset, batch_size = 1, shuffle= True)\n",
    "    itr = 0\n",
    "    optimizer = torch.optim.Adam(model.parameters(), lr = 2e-4)\n",
    "    for epoch in tqdm(range(epochs)):\n",
    "        for sample in train_loader:\n",
    "            outputs = model(sample[\"image\"].to(device))\n",
    "\n",
    "            masks = outputs[\"masks\"]\n",
    "            B, N, W, H = masks.shape\n",
    "            scores = outputs[\"scores\"]\n",
    "            features = outputs[\"features\"]\n",
    "\n",
    "            loss = 0.0\n",
    "\n",
    "            qa_pairs = sample[\"question\"]\n",
    "\n",
    "            for b in range(B):\n",
    "                for i,qa_pair in enumerate(qa_pairs):  \n",
    "                    programs = qa_pair[\"program\"]\n",
    "                    answers = qa_pair[\"answer\"]              \n",
    "                    kwargs = {\n",
    "                    \"end\":[scores[b]],\n",
    "                    \"features\":[features[b]]}\n",
    "\n",
    "                    q = model.executor.parse(programs[b])\n",
    "                    o = model.executor(q,**kwargs)\n",
    "                    ans = answers[b]\n",
    "                    \n",
    "                    if ans in [\"True\",\"False\"]:\n",
    "                        if itr % ckpt_itrs == 0:print(q,o[\"end\"].sigmoid().detach().numpy(),ans)\n",
    "                        if ans == \"True\":\n",
    "                            loss -= torch.log(torch.sigmoid(o[\"end\"]))\n",
    "                        else: loss -=  torch.log(1 - torch.sigmoid(o[\"end\"]))\n",
    "                    else:\n",
    "                        if itr % ckpt_itrs == 0:print(q,o[\"end\"].detach().numpy()-1, float(answers[b]))\n",
    "                        loss += torch.nn.functional.mse_loss(torch.tensor(float(answers[b])), o[\"end\"]) * 1.0\n",
    "\n",
    "            optimizer.zero_grad()\n",
    "            loss.backward()\n",
    "            optimizer.step()\n",
    "            if itr % ckpt_itrs == 0:\n",
    "                pass"
   ]
  },
  {
   "cell_type": "code",
   "execution_count": 193,
   "metadata": {},
   "outputs": [],
   "source": [
    "config.domain = \"demo\"\n",
    "config.concept_type = \"cone\"\n",
    "config.concept_dim = 32\n",
    "glearner = GraphLearner(4, 32)\n",
    "\n",
    "#print(glearner.executor.all_embeddings()[0])"
   ]
  },
  {
   "cell_type": "code",
   "execution_count": null,
   "metadata": {},
   "outputs": [],
   "source": []
  }
 ],
 "metadata": {
  "interpreter": {
   "hash": "a47e46093c771f9510c4aabf3710bfb1355e5f870a13f8c22092f45d4d23626d"
  },
  "kernelspec": {
   "display_name": "Python 3.9.13 ('Melkor')",
   "language": "python",
   "name": "python3"
  },
  "language_info": {
   "codemirror_mode": {
    "name": "ipython",
    "version": 3
   },
   "file_extension": ".py",
   "mimetype": "text/x-python",
   "name": "python",
   "nbconvert_exporter": "python",
   "pygments_lexer": "ipython3",
   "version": "3.9.13"
  },
  "orig_nbformat": 4
 },
 "nbformat": 4,
 "nbformat_minor": 2
}
