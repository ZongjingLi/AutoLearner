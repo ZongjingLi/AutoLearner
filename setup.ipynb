{
 "cells": [
  {
   "cell_type": "code",
   "execution_count": null,
   "metadata": {},
   "outputs": [],
   "source": [
    "# Download the Model Package\n",
    "!git clone https://github.com/ZongjingLi/AutoLearner.git"
   ]
  },
  {
   "cell_type": "code",
   "execution_count": null,
   "metadata": {},
   "outputs": [],
   "source": [
    "# [To Install Environment Manually]\n",
    "!pip install scipy\n",
    "!pip install networkx\n",
    "!pip install gym\n",
    "!pip install pygame\n",
    "!pip install pycocotools\n",
    "!pip install opencv-python\n",
    "!pip install imageio\n",
    "!pip install scikit-image\n",
    "!pip install pandas\n",
    "!pip install opendatasets \n",
    "!pip install tensorflow\n",
    "!pip install tinyenv"
   ]
  },
  {
   "cell_type": "code",
   "execution_count": 4,
   "metadata": {},
   "outputs": [
    {
     "name": "stdout",
     "output_type": "stream",
     "text": [
      "Cloning into 'Karanir'...\n",
      "remote: Enumerating objects: 220, done.\u001b[K\n",
      "remote: Counting objects: 100% (220/220), done.\u001b[K\n",
      "remote: Compressing objects: 100% (161/161), done.\u001b[K\n",
      "remote: Total 220 (delta 89), reused 168 (delta 37), pack-reused 0\u001b[K\n",
      "Receiving objects: 100% (220/220), 31.68 KiB | 1.51 MiB/s, done.\n",
      "Resolving deltas: 100% (89/89), done.\n",
      "Processing ./Karanir\n",
      "  Preparing metadata (setup.py) ... \u001b[?25ldone\n",
      "\u001b[?25hBuilding wheels for collected packages: Karanir\n",
      "  Building wheel for Karanir (setup.py) ... \u001b[?25ldone\n",
      "\u001b[?25h  Created wheel for Karanir: filename=Karanir-1.0-py3-none-any.whl size=20201 sha256=584a5afff3c346145755bee9aac5575aaa7d5181855af3b7ef3d1c30623a2847\n",
      "  Stored in directory: /private/var/folders/tp/c2bzzvd17y35z8x_20mfhn700000gn/T/pip-ephem-wheel-cache-m384alyr/wheels/ac/9d/9c/1c5bd8c4311ff8eb34404369b6b23bb32434b462a85b53b393\n",
      "Successfully built Karanir\n",
      "\u001b[33mDEPRECATION: pytorch-lightning 1.6.3 has a non-standard dependency specifier torch>=1.8.*. pip 23.3 will enforce this behaviour change. A possible replacement is to upgrade to a newer version of pytorch-lightning or contact the author to suggest that they release a version with a conforming dependency specifiers. Discussion can be found at https://github.com/pypa/pip/issues/12063\u001b[0m\u001b[33m\n",
      "\u001b[0mInstalling collected packages: Karanir\n",
      "  Attempting uninstall: Karanir\n",
      "    Found existing installation: Karanir 1.0\n",
      "    Uninstalling Karanir-1.0:\n",
      "      Successfully uninstalled Karanir-1.0\n",
      "Successfully installed Karanir-1.0\n"
     ]
    }
   ],
   "source": [
    "# Download and setup some packages\n",
    "!git clone https://github.com/ZongjingLi/Karanir.git\n",
    "!pip install /Users/melkor/Documents/GitHub/AutoLearner/Karanir"
   ]
  },
  {
   "cell_type": "code",
   "execution_count": null,
   "metadata": {},
   "outputs": [],
   "source": [
    "# [Download Necessay Dataset]\n",
    "import opendatasets as od\n",
    "import pandas\n",
    "\n",
    "{\"username\":\"rinsun\",\"key\":\"ce45bf131ef12e0f91231b91753e164f\"}\n",
    "\n",
    "dataset_directory = \"autodl_tmp\"\n",
    "\n",
    "# [StructureNet]\n",
    "od.download(\"https://www.kaggle.com/datasets/rinsun/structurenet\",\"autodl-tmp\")\n",
    "od.download(\"https://www.kaggle.com/datasets/rinsun/structureqa\",\"autodl-tmp\")\n",
    "\n",
    "#od.download(\"https://www.kaggle.com/datasets/rinsun/multistructnet\",\"autodl-tmp\")"
   ]
  }
 ],
 "metadata": {
  "interpreter": {
   "hash": "a47e46093c771f9510c4aabf3710bfb1355e5f870a13f8c22092f45d4d23626d"
  },
  "kernelspec": {
   "display_name": "Python 3.9.13 ('Melkor')",
   "language": "python",
   "name": "python3"
  },
  "language_info": {
   "codemirror_mode": {
    "name": "ipython",
    "version": 3
   },
   "file_extension": ".py",
   "mimetype": "text/x-python",
   "name": "python",
   "nbconvert_exporter": "python",
   "pygments_lexer": "ipython3",
   "version": "3.9.13"
  },
  "orig_nbformat": 4
 },
 "nbformat": 4,
 "nbformat_minor": 2
}
