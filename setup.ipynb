{
 "cells": [
  {
   "cell_type": "code",
   "execution_count": null,
   "metadata": {},
   "outputs": [],
   "source": [
    "# Download the Model Package\n",
    "!git clone https://github.com/ZongjingLi/SceneGraphLearner.git"
   ]
  },
  {
   "cell_type": "code",
   "execution_count": null,
   "metadata": {},
   "outputs": [],
   "source": [
    "# [To Install Environment Manually]\n",
    "!pip install scipy\n",
    "!pip install networkx\n",
    "!pip install gym\n",
    "!pip install pygame\n",
    "!pip install pycocotools\n",
    "!pip install opencv-python\n",
    "!pip install imageio\n",
    "!pip install scikit-image\n",
    "!pip install pandas\n",
    "!pip install opendatasets \n",
    "!pip install tensorflow\n",
    "!pip install tinyenv"
   ]
  },
  {
   "cell_type": "code",
   "execution_count": 1,
   "metadata": {},
   "outputs": [
    {
     "name": "stdout",
     "output_type": "stream",
     "text": [
      "Cloning into 'Karanir'...\n",
      "remote: Enumerating objects: 174, done.\u001b[K\n",
      "remote: Counting objects: 100% (174/174), done.\u001b[Kbjects:  70% (122/174)\u001b[K\n",
      "remote: Compressing objects: 100% (127/127), done.\u001b[K\n",
      "remote: Total 174 (delta 64), reused 135 (delta 25), pack-reused 0\u001b[K\n",
      "Receiving objects: 100% (174/174), 21.21 KiB | 587.00 KiB/s, done.\n",
      "Resolving deltas: 100% (64/64), done.\n",
      "Processing ./Karanir\n",
      "  Preparing metadata (setup.py) ... \u001b[?25ldone\n",
      "\u001b[?25hBuilding wheels for collected packages: Karanir\n",
      "  Building wheel for Karanir (setup.py) ... \u001b[?25ldone\n",
      "\u001b[?25h  Created wheel for Karanir: filename=Karanir-1.0-py3-none-any.whl size=11775 sha256=4194dc49a292852021bb4b335a78e751d7210f82101b25362ed86fc63e19acb1\n",
      "  Stored in directory: /private/var/folders/tp/c2bzzvd17y35z8x_20mfhn700000gn/T/pip-ephem-wheel-cache-s6jxzqyq/wheels/1b/75/1c/2a0140fb26ca7ebccf4bf62373308fa8123a9f5e1e589c44db\n",
      "Successfully built Karanir\n",
      "\u001b[33mDEPRECATION: pytorch-lightning 1.6.3 has a non-standard dependency specifier torch>=1.8.*. pip 23.3 will enforce this behaviour change. A possible replacement is to upgrade to a newer version of pytorch-lightning or contact the author to suggest that they release a version with a conforming dependency specifiers. Discussion can be found at https://github.com/pypa/pip/issues/12063\u001b[0m\u001b[33m\n",
      "\u001b[0mInstalling collected packages: Karanir\n",
      "  Attempting uninstall: Karanir\n",
      "    Found existing installation: Karanir 1.0\n",
      "    Uninstalling Karanir-1.0:\n",
      "      Successfully uninstalled Karanir-1.0\n",
      "Successfully installed Karanir-1.0\n"
     ]
    }
   ],
   "source": [
    "# Download and setup some packages\n",
    "!git clone https://github.com/ZongjingLi/Karanir.git\n",
    "!pip install /Users/melkor/Documents/GitHub/SceneGraphLearner/Karanir"
   ]
  },
  {
   "cell_type": "code",
   "execution_count": null,
   "metadata": {},
   "outputs": [],
   "source": [
    "# [Download Necessay Dataset]\n",
    "import opendatasets as od\n",
    "import pandas\n",
    "\n",
    "{\"username\":\"rinsun\",\"key\":\"ce45bf131ef12e0f91231b91753e164f\"}\n",
    "\n",
    "dataset_directory = \"autodl_tmp\"\n",
    "\n",
    "# [StructureNet]\n",
    "od.download(\"https://www.kaggle.com/datasets/rinsun/structurenet\",\"autodl-tmp\")\n",
    "od.download(\"https://www.kaggle.com/datasets/rinsun/structureqa\",\"autodl-tmp\")\n",
    "\n",
    "#od.download(\"https://www.kaggle.com/datasets/rinsun/multistructnet\",\"autodl-tmp\")"
   ]
  }
 ],
 "metadata": {
  "interpreter": {
   "hash": "a47e46093c771f9510c4aabf3710bfb1355e5f870a13f8c22092f45d4d23626d"
  },
  "kernelspec": {
   "display_name": "Python 3.9.13 ('Melkor')",
   "language": "python",
   "name": "python3"
  },
  "language_info": {
   "codemirror_mode": {
    "name": "ipython",
    "version": 3
   },
   "file_extension": ".py",
   "mimetype": "text/x-python",
   "name": "python",
   "nbconvert_exporter": "python",
   "pygments_lexer": "ipython3",
   "version": "3.9.13"
  },
  "orig_nbformat": 4
 },
 "nbformat": 4,
 "nbformat_minor": 2
}
